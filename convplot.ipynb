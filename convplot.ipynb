{
 "cells": [
  {
   "cell_type": "code",
   "execution_count": 929,
   "metadata": {},
   "outputs": [],
   "source": [
    "from itertools import cycle\n",
    "import numpy as np\n",
    "import pandas as pd\n",
    "import os\n",
    "import matplotlib.pyplot as plt\n",
    "from matplotlib.ticker import MultipleLocator, FormatStrFormatter, AutoMinorLocator, AutoLocator\n",
    "from mpltools import annotation\n",
    "\n",
    "plt.style.use('seaborn-poster')"
   ]
  },
  {
   "cell_type": "code",
   "execution_count": 930,
   "metadata": {},
   "outputs": [
    {
     "name": "stdout",
     "output_type": "stream",
     "text": [
      "conv_results_cg_tri\t\t   conv_results_lsh_alternative_quad_new2\n",
      "conv_results_cgh_quad\t\t   conv_results_lsh_alternative_tri\n",
      "conv_results_cgh_tri\t\t   conv_results_lsh_embedded_mass_tri\n",
      "conv_results_cgls_quad\t\t   conv_results_lsh_expanded_quad\n",
      "conv_results_cgls_tri\t\t   conv_results_lsh_expanded_tri\n",
      "conv_results_cls_ip_primal_quad    conv_results_lsh_quad\n",
      "conv_results_dls_ip_primal_quad    conv_results_lsh_quad_new\n",
      "conv_results_dls_ip_primal_tri\t   conv_results_lsh_tri\n",
      "conv_results_hdg_quad\t\t   conv_results_mixed_RT_quad\n",
      "conv_results_hdg_tri\t\t   conv_results_new_lsh_primal_quad\n",
      "conv_results_ldgc_quad\t\t   conv_results_new_lsh_primal_tri\n",
      "conv_results_ldgc_tri\t\t   conv_results_sdhm_quad\n",
      "conv_results_ls_quad\t\t   conv_results_sdhm_tri\n",
      "conv_results_ls_tri\t\t   conv_results_sipg_quad\n",
      "conv_results_lsh_alternative_quad  conv_results_sipg_tri\n"
     ]
    }
   ],
   "source": [
    "!ls conv_rate_results"
   ]
  },
  {
   "cell_type": "code",
   "execution_count": 931,
   "metadata": {},
   "outputs": [],
   "source": [
    "result_cases_dirname_list = {\n",
    "#     \"LS-h\": \"conv_results_lsh_tri\",\n",
    "    # \"LS-h-mass\": \"conv_results_lsh_embedded_mass_tri\",\n",
    "    # \"LS-h-expanded\": \"conv_results_lsh_expanded_tri\",\n",
    "    # \"SDHM\": \"conv_results_sdhm_quad\",\n",
    "    # \"DLS-IP\": \"conv_results_dls_ip_primal_quad\",\n",
    "    # \"CLS\": \"conv_results_cls_ip_primal_quad\"\n",
    "#     \"HDG\": \"conv_results_hdg_tri\",\n",
    "    \"LS-h-primal\": \"conv_results_new_lsh_primal_tri\"\n",
    "}"
   ]
  },
  {
   "cell_type": "code",
   "execution_count": 932,
   "metadata": {},
   "outputs": [],
   "source": [
    "all_results = dict()\n",
    "for case in result_cases_dirname_list:\n",
    "    dirname = result_cases_dirname_list[case]\n",
    "    df_result_case = pd.read_csv(\"./conv_rate_results/%s/errors.csv\" % dirname)\n",
    "    columns_to_apply = [\"H1-error p\", \"Hdiv-error u\", \"L2-error p\", \"L2-error u\", \"Mesh size\"]\n",
    "    df_result_case[columns_to_apply] = df_result_case[columns_to_apply].apply(lambda x: np.log2(x))\n",
    "    all_results[case] = df_result_case\n",
    "    \n",
    "# all_results['HDG']"
   ]
  },
  {
   "cell_type": "markdown",
   "metadata": {},
   "source": [
    "## h-convergence"
   ]
  },
  {
   "cell_type": "code",
   "execution_count": 933,
   "metadata": {},
   "outputs": [
    {
     "data": {
      "text/plain": [
       "{'LS-h-primal':    Unnamed: 0 Element  Degree  Cells  log Cells  Mesh size  L2-error p  \\\n",
       " 0           0     Tri       1     32   0.752575       -1.5   -2.127973   \n",
       " 1           1     Tri       1    128   1.053605       -2.5   -3.640275   \n",
       " 2           2     Tri       1    512   1.354635       -3.5   -5.502636   \n",
       " 3           3     Tri       1   2048   1.655665       -4.5   -7.464224   \n",
       " 4           4     Tri       1   8192   1.956695       -5.5   -9.452754   \n",
       " \n",
       "    log L2-error p  L2-error p order  H1-error p  log H1-error p  \\\n",
       " 0       -0.640584          1.847351    1.541239        0.463959   \n",
       " 1       -1.095832          1.847351    0.737785        0.222095   \n",
       " 2       -1.656458          1.847351   -0.212489       -0.063966   \n",
       " 3       -2.246955          1.847351   -1.200525       -0.361394   \n",
       " 4       -2.845562          1.847351   -2.197721       -0.661580   \n",
       " \n",
       "    H1-error p order  L2-error u  log L2-error u  L2-error u order  \\\n",
       " 0          0.941623    1.535611        0.462265          0.940343   \n",
       " 1          0.941623    0.736062        0.221577          0.940343   \n",
       " 2          0.941623   -0.212964       -0.064108          0.940343   \n",
       " 3          0.941623   -1.200648       -0.361431          0.940343   \n",
       " 4          0.941623   -2.197752       -0.661589          0.940343   \n",
       " \n",
       "    Hdiv-error u  Hdiv-error u order  \n",
       " 0      5.306318            0.000771  \n",
       " 1      5.304183            0.000771  \n",
       " 2      5.303330            0.000771  \n",
       " 3      5.303079            0.000771  \n",
       " 4      5.303014            0.000771  }"
      ]
     },
     "execution_count": 933,
     "metadata": {},
     "output_type": "execute_result"
    }
   ],
   "source": [
    "results_by_degree = dict()\n",
    "min_degree, max_degree = 1, 5\n",
    "for degree in range(min_degree, max_degree + 1):\n",
    "    results_by_case = {}\n",
    "    for case in result_cases_dirname_list:\n",
    "        results_by_case[case] = all_results[case][all_results[case][\"Degree\"] == degree]\n",
    "\n",
    "    results_by_degree[degree] = results_by_case\n",
    "    \n",
    "results_by_degree[1]"
   ]
  },
  {
   "cell_type": "code",
   "execution_count": 934,
   "metadata": {},
   "outputs": [],
   "source": [
    "def plot_convergence_rate(\n",
    "    results,\n",
    "    slope_scalar,\n",
    "    slope_flux,\n",
    "    ncol=2,\n",
    "    save_plot=False,\n",
    "    file_to_save='',\n",
    "    dir_to_save='',\n",
    "    figure_extension='png',\n",
    "    display_plot=True,\n",
    "    high_quality=False,\n",
    "    size_frac=0.2,\n",
    "    figsize=(8, 10)\n",
    "):\n",
    "    if high_quality:\n",
    "            fig, ax = plt.subplots(figsize=figsize, dpi=500)\n",
    "    else:\n",
    "        fig, ax = plt.subplots(figsize=figsize)\n",
    "\n",
    "    cycle_colors = cycle('brgcmk')\n",
    "    color_scalar = next(cycle_colors)\n",
    "    color_flux = next(cycle_colors)\n",
    "    markers = cycle(('s', '*', '^', 'o', 'D', '>', '<')) \n",
    "    for case in results:\n",
    "        mesh_size = results[case][\"log Cells\"].values\n",
    "        scalar_error = results[case][\"log L2-error p\"].values\n",
    "        flux_error = results[case][\"log L2-error u\"].values\n",
    "\n",
    "        marker_scalar = next(markers)\n",
    "        ax.plot([np.nan], [np.nan], '', color='w', label='%s:' % case)\n",
    "        ax.plot(\n",
    "            mesh_size, \n",
    "            scalar_error,\n",
    "            linestyle=\"-\",\n",
    "            marker=marker_scalar,\n",
    "            color=color_scalar,\n",
    "            markersize=10,\n",
    "            linewidth=3,\n",
    "            label=\"scalar\"\n",
    "        )\n",
    "\n",
    "        marker_flux = next(markers)\n",
    "        ax.plot(\n",
    "            mesh_size, \n",
    "            flux_error,\n",
    "            linestyle=\"--\",\n",
    "            marker=marker_flux,\n",
    "            color=color_flux,\n",
    "            markersize=12,\n",
    "            linewidth=3,\n",
    "            label=\"flux\"\n",
    "        )\n",
    "        \n",
    "    box = ax.get_position()\n",
    "#     ax.set_position([box.x0, box.y0 + box.height * 0.1,\n",
    "#                      box.width, box.height * 0.9])\n",
    "#     ax.legend(loc='center left', bbox_to_anchor=(1, 0.5),\n",
    "#               fancybox=True, shadow=True)\n",
    "    ax.legend(loc='center', bbox_to_anchor=(0.5, 1.1),\n",
    "              fancybox=True, shadow=True, ncol=ncol)\n",
    "    \n",
    "    plt.xlabel(r\"$-\\log_{10}( h )$\")\n",
    "    plt.ylabel(r\"$\\log_{10}\\left(||e||_{L^2(\\Omega)}\\right)$\")\n",
    "\n",
    "    ax.tick_params(which='both', top=True, right=True)\n",
    "    ax.xaxis.set_major_locator(AutoLocator())\n",
    "    ax.xaxis.set_minor_locator(AutoMinorLocator())\n",
    "    ax.yaxis.set_major_locator(AutoLocator())\n",
    "    ax.yaxis.set_minor_locator(AutoMinorLocator())\n",
    "    ax.tick_params(which='both', width=2)\n",
    "    ax.tick_params(which='major', length=8)\n",
    "    ax.tick_params(which='minor', length=4)\n",
    "\n",
    "    id_ref_solution_point_to_marker = -2\n",
    "    scalar_marker_x = mesh_size[id_ref_solution_point_to_marker] - 0.025 * mesh_size[id_ref_solution_point_to_marker]\n",
    "    scalar_marker_y = scalar_error[id_ref_solution_point_to_marker]\n",
    "    annotation.slope_marker(\n",
    "        origin=(scalar_marker_x, scalar_marker_y), \n",
    "        slope=-slope_scalar, \n",
    "        invert=True, \n",
    "        size_frac=size_frac, \n",
    "        pad_frac=0.1, \n",
    "        text_kwargs={\n",
    "            'fontsize': 18,\n",
    "            # 'text': slope_scalar,\n",
    "            'color': color_scalar\n",
    "        },\n",
    "        poly_kwargs={\n",
    "            'color': color_scalar,\n",
    "            'alpha': 1\n",
    "        },\n",
    "        ax=ax\n",
    "    )\n",
    "\n",
    "    flux_marker_x = mesh_size[id_ref_solution_point_to_marker] - 0.025 * mesh_size[id_ref_solution_point_to_marker]\n",
    "    flux_marker_y = flux_error[id_ref_solution_point_to_marker]\n",
    "    annotation.slope_marker(\n",
    "        origin=(flux_marker_x, flux_marker_y), \n",
    "        slope=-slope_flux, \n",
    "        invert=True, \n",
    "        size_frac=size_frac, \n",
    "        pad_frac=0.1, \n",
    "        text_kwargs={\n",
    "            'fontsize': 18,\n",
    "            # 'text': slope_flux,\n",
    "            'color': color_flux\n",
    "        },\n",
    "        poly_kwargs={\n",
    "            'color': color_flux,\n",
    "            'alpha': 1\n",
    "        },\n",
    "        ax=ax\n",
    "    )\n",
    "\n",
    "    plt.tight_layout()\n",
    "    if save_plot:\n",
    "        if dir_to_save == '':\n",
    "            dir_to_save = './conv_result'\n",
    "\n",
    "        os.makedirs(dir_to_save, exist_ok=True)\n",
    "\n",
    "        if file_to_save == '':\n",
    "            file_to_save = 'plot_conv_%i' % degree\n",
    "\n",
    "        file_to_save = file_to_save + (\".%s\" % figure_extension)\n",
    "        plt.savefig(file_to_save, bbox_inches='tight')\n",
    "\n",
    "    if display_plot:\n",
    "        plt.show()\n",
    "        \n",
    "    return"
   ]
  },
  {
   "cell_type": "code",
   "execution_count": 938,
   "metadata": {},
   "outputs": [
    {
     "name": "stderr",
     "output_type": "stream",
     "text": [
      "/home/diego/firedrake/lib/python3.8/site-packages/mpltools/annotation/_slopemarker.py:128: UserWarning: Setting the 'color' property will override the edgecolor or facecolor properties.\n",
      "  return plt.Polygon(verts, **poly_kwargs)\n"
     ]
    },
    {
     "data": {
      "image/png": "[encoded data removed]",
      "text/plain": [
       "<Figure size 432x720 with 1 Axes>"
      ]
     },
     "metadata": {
      "needs_background": "light"
     },
     "output_type": "display_data"
    }
   ],
   "source": [
    "###########################################################\n",
    "# Tri\n",
    "###########################################################\n",
    "\n",
    "# Degree 1\n",
    "# origin_slope_scalar=(3, -5.),\n",
    "# origin_slope_flux=(3, -1.5),\n",
    "# Degree 2\n",
    "# origin_slope_scalar=(3, -10.5),\n",
    "# origin_slope_flux=(3, -7.),\n",
    "# Degree 3\n",
    "# origin_slope_scalar=(3, -13.75),\n",
    "# origin_slope_flux=(3, -11.),\n",
    "# Degree 4\n",
    "# origin_slope_scalar=(3, -19.),\n",
    "# origin_slope_flux=(3, -15.5),\n",
    "\n",
    "###########################################################\n",
    "# Quads\n",
    "###########################################################\n",
    "\n",
    "# Degree 1\n",
    "# origin_slope_scalar=(3, -4.5),\n",
    "# origin_slope_flux=(3, -2.5),\n",
    "# Degree 2\n",
    "# origin_slope_scalar=(3, -9.5),\n",
    "# origin_slope_flux=(3, -6.5),\n",
    "# Degree 3\n",
    "# origin_slope_scalar=(3, -14.5),\n",
    "# origin_slope_flux=(3, -8.5),\n",
    "# Degree 4\n",
    "# origin_slope_scalar=(3, -19.),\n",
    "# origin_slope_flux=(3, -12.5),\n",
    "\n",
    "# filename = 'tri_deg%i' % degree\n",
    "degree = 4\n",
    "filename = f'dls_ip_quad_{degree}_seminario'\n",
    "plot_convergence_rate(\n",
    "    results_by_degree[degree],\n",
    "    slope_scalar=degree + 1,\n",
    "    slope_flux=degree,\n",
    "    ncol=1,\n",
    "    file_to_save=filename,\n",
    "    size_frac=0.15,\n",
    "    save_plot=False,\n",
    "    figsize=(6, 10)\n",
    ")"
   ]
  },
  {
   "cell_type": "markdown",
   "metadata": {},
   "source": [
    "## p-convergence"
   ]
  }
 ],
 "metadata": {
  "interpreter": {
   "hash": "1ea79cdacdf74850b825b03feed62cf253efa9f2b1c887b434db2f228a40433c"
  },
  "kernelspec": {
   "display_name": "Python 3.8.10 ('firedrake')",
   "language": "python",
   "name": "python3"
  },
  "language_info": {
   "codemirror_mode": {
    "name": "ipython",
    "version": 3
   },
   "file_extension": ".py",
   "mimetype": "text/x-python",
   "name": "python",
   "nbconvert_exporter": "python",
   "pygments_lexer": "ipython3",
   "version": "3.8.10"
  }
 },
 "nbformat": 4,
 "nbformat_minor": 2
}
